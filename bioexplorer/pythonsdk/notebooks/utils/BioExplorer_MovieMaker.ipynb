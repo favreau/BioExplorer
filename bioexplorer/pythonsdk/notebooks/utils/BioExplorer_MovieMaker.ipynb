{
 "cells": [
  {
   "attachments": {},
   "cell_type": "markdown",
   "metadata": {},
   "source": [
    "# Blue Brain BioExplorer - Movie maker\n",
    "![](../bioexplorer_banner.png)"
   ]
  },
  {
   "cell_type": "code",
   "execution_count": 1,
   "metadata": {},
   "outputs": [],
   "source": [
    "from bioexplorer import BioExplorer, MovieMaker\n",
    "be = BioExplorer('r3i5n22.bbp.epfl.ch:5000')\n",
    "mm = MovieMaker(be)"
   ]
  },
  {
   "cell_type": "code",
   "execution_count": 5,
   "metadata": {},
   "outputs": [],
   "source": [
    "renderers = ['albedo', 'ambient_occlusion', 'depth', 'shadow', 'raycast_Ns', 'raycast_Ng', 'radiance']\n",
    "for renderer in renderers:\n",
    "    mm.create_snapshot(\n",
    "        renderer=renderer,\n",
    "        path='/tmp',\n",
    "        size=[3840, 2160],\n",
    "        base_name=renderer,\n",
    "        samples_per_pixel=256)"
   ]
  },
  {
   "cell_type": "code",
   "execution_count": 5,
   "metadata": {},
   "outputs": [
    {
     "data": {
      "application/vnd.jupyter.widget-view+json": {
       "model_id": "521a045ceb034a01b78983878244e4b4",
       "version_major": 2,
       "version_minor": 0
      },
      "text/plain": [
       "IntProgress(value=0, description='In progress...')"
      ]
     },
     "metadata": {},
     "output_type": "display_data"
    }
   ],
   "source": [
    "mm.create_snapshot(\n",
    "    renderer='advanced',\n",
    "    path='/gpfs/bbp.cscs.ch/project/proj129/scratch/images/atlas/covers',\n",
    "    size=[3840, 2160], show_progress=True,\n",
    "    base_name='ccfv3_regions_dof_v4',\n",
    "    samples_per_pixel=256)"
   ]
  }
 ],
 "metadata": {
  "kernelspec": {
   "display_name": "env",
   "language": "python",
   "name": "python3"
  },
  "language_info": {
   "codemirror_mode": {
    "name": "ipython",
    "version": 3
   },
   "file_extension": ".py",
   "mimetype": "text/x-python",
   "name": "python",
   "nbconvert_exporter": "python",
   "pygments_lexer": "ipython3",
   "version": "3.10.12"
  },
  "orig_nbformat": 4
 },
 "nbformat": 4,
 "nbformat_minor": 2
}
